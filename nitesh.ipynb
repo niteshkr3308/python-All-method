{
 "cells": [
  {
   "cell_type": "code",
   "execution_count": 490,
   "id": "4cf04e33-650e-4a4b-9b5d-f909bf21ab61",
   "metadata": {},
   "outputs": [
    {
     "name": "stdout",
     "output_type": "stream",
     "text": [
      "hello\n",
      "world\n"
     ]
    }
   ],
   "source": [
    "print(\"hello\\nworld\")                 ## \\n method for next line"
   ]
  },
  {
   "cell_type": "code",
   "execution_count": 489,
   "id": "f02a4d5f-56d4-443a-ba68-efb2a24df98a",
   "metadata": {},
   "outputs": [
    {
     "name": "stdout",
     "output_type": "stream",
     "text": [
      "hello world lucia\n"
     ]
    }
   ],
   "source": [
    "print(\"hello\",end=\" \")                 #  end=\" \"  for adding two or more string with placeholder\n",
    "print(\"world\",end=\" \")\n",
    "print(\"lucia\")"
   ]
  },
  {
   "cell_type": "markdown",
   "id": "ab963833-0ba6-404a-aa58-15a9c9ea8f9b",
   "metadata": {},
   "source": [
    "## string method"
   ]
  },
  {
   "cell_type": "code",
   "execution_count": 515,
   "id": "d377148a-3448-43a7-97e5-34eed64782d6",
   "metadata": {},
   "outputs": [
    {
     "data": {
      "text/plain": [
       "'Hello world my '"
      ]
     },
     "execution_count": 515,
     "metadata": {},
     "output_type": "execute_result"
    }
   ],
   "source": [
    "#capitalize() method\n",
    "x=\"hello world MY \"\n",
    "x.capitalize()"
   ]
  },
  {
   "cell_type": "code",
   "execution_count": 516,
   "id": "1f185d44-0e3d-493a-8a4d-30a78e8a920d",
   "metadata": {},
   "outputs": [
    {
     "data": {
      "text/plain": [
       "'hello world'"
      ]
     },
     "execution_count": 516,
     "metadata": {},
     "output_type": "execute_result"
    }
   ],
   "source": [
    "#lower()  method\n",
    "x=\"HELLO World\"\n",
    "x.lower()\n"
   ]
  },
  {
   "cell_type": "code",
   "execution_count": 517,
   "id": "59af5d2c-3d4a-4cab-9187-72744ac78bb1",
   "metadata": {},
   "outputs": [
    {
     "data": {
      "text/plain": [
       "'HELLO WORLD, MY NAME IS NITESH'"
      ]
     },
     "execution_count": 517,
     "metadata": {},
     "output_type": "execute_result"
    }
   ],
   "source": [
    "## upper() method\n",
    "x=\"HELLO World, My name is nitesh\"\n",
    "x.upper()"
   ]
  },
  {
   "cell_type": "code",
   "execution_count": 518,
   "id": "5fcbc73c-0af3-489f-8ae3-f77c851e459e",
   "metadata": {},
   "outputs": [
    {
     "data": {
      "text/plain": [
       "'Hello World, My Name Is Nitesh Kumar'"
      ]
     },
     "execution_count": 518,
     "metadata": {},
     "output_type": "execute_result"
    }
   ],
   "source": [
    "## title() method\n",
    "x=\"HELLO World, My name is nitesh kumar\"\n",
    "x.title()"
   ]
  },
  {
   "cell_type": "code",
   "execution_count": 519,
   "id": "40cdd2fd-918e-49c6-811a-1d3f95abac86",
   "metadata": {},
   "outputs": [
    {
     "data": {
      "text/plain": [
       "8"
      ]
     },
     "execution_count": 519,
     "metadata": {},
     "output_type": "execute_result"
    }
   ],
   "source": [
    "# count() method\n",
    "x=\"NNNNNNNNNNNNNNnnnnnnnn\"\n",
    "x.count('n')             ## here not count total value of capital 'N' & small 'n'  "
   ]
  },
  {
   "cell_type": "code",
   "execution_count": 520,
   "id": "f1fc7bf3-9f69-4b9c-aa65-26b795778af8",
   "metadata": {},
   "outputs": [
    {
     "name": "stdout",
     "output_type": "stream",
     "text": [
      "13\n"
     ]
    }
   ],
   "source": [
    "# Q.  count the total letter of N in string\n",
    "x=\"NNNNNnnnnnnnn\"\n",
    "y=x.upper()\n",
    "print(y.count(\"N\"))                   ## first we covert string into either capital or small"
   ]
  },
  {
   "cell_type": "code",
   "execution_count": 15,
   "id": "15d8cc00-845b-491e-81ef-b9edd2c89600",
   "metadata": {},
   "outputs": [
    {
     "data": {
      "text/plain": [
       "3"
      ]
     },
     "execution_count": 15,
     "metadata": {},
     "output_type": "execute_result"
    }
   ],
   "source": [
    "x=\"nnnnnnnnnn\" \n",
    "x.count('n',2,5)            ## string.count('value',start,end)"
   ]
  },
  {
   "cell_type": "code",
   "execution_count": 98,
   "id": "1eac32ca-8891-4ad2-a5a0-5b82ce4de108",
   "metadata": {},
   "outputs": [
    {
     "data": {
      "text/plain": [
       "2"
      ]
     },
     "execution_count": 98,
     "metadata": {},
     "output_type": "execute_result"
    }
   ],
   "source": [
    "x=\"my name is nitesh kumar\"\n",
    "x.count('n',0,20)"
   ]
  },
  {
   "cell_type": "code",
   "execution_count": 521,
   "id": "d0e8edff-e9d3-4297-a0a1-0a2d531f4e35",
   "metadata": {},
   "outputs": [
    {
     "data": {
      "text/plain": [
       "'nitesh is     my name'"
      ]
     },
     "execution_count": 521,
     "metadata": {},
     "output_type": "execute_result"
    }
   ],
   "source": [
    "#strip method\n",
    "x=\"     nitesh is     my name      \"\n",
    "x.strip(\" \")"
   ]
  },
  {
   "cell_type": "code",
   "execution_count": 522,
   "id": "d078ae55-6630-4207-bc8b-78fed39174f9",
   "metadata": {},
   "outputs": [
    {
     "data": {
      "text/plain": [
       "'nitesh'"
      ]
     },
     "execution_count": 522,
     "metadata": {},
     "output_type": "execute_result"
    }
   ],
   "source": [
    "#strip method\n",
    "x=\",,,,......rrtttgggg....nitesh......\"\n",
    "x.strip(\",.rtg\")"
   ]
  },
  {
   "cell_type": "code",
   "execution_count": 523,
   "id": "b3f2b542-26c1-4992-9751-ae60544aef38",
   "metadata": {},
   "outputs": [
    {
     "data": {
      "text/plain": [
       "['my', 'name', 'is', 'nitesh', 'kumar', ',', 'i', 'am', '25']"
      ]
     },
     "execution_count": 523,
     "metadata": {},
     "output_type": "execute_result"
    }
   ],
   "source": [
    "#split method\n",
    "x=\"my name is nitesh kumar , i am 25\"\n",
    "x.split()"
   ]
  },
  {
   "cell_type": "code",
   "execution_count": 38,
   "id": "3b2d7f74-ce98-4616-b741-81e99cb587e4",
   "metadata": {},
   "outputs": [
    {
     "data": {
      "text/plain": [
       "['apple', 'banana', 'cherry', 'mango']"
      ]
     },
     "execution_count": 38,
     "metadata": {},
     "output_type": "execute_result"
    }
   ],
   "source": [
    "x=\"apple#banana#cherry#mango\"\n",
    "x.split('#')"
   ]
  },
  {
   "cell_type": "code",
   "execution_count": 50,
   "id": "16f50387-5f87-4b24-8dd6-4e1e5ea00001",
   "metadata": {},
   "outputs": [
    {
     "data": {
      "text/plain": [
       "['apple', 'banana#cherry#mango']"
      ]
     },
     "execution_count": 50,
     "metadata": {},
     "output_type": "execute_result"
    }
   ],
   "source": [
    "x=\"apple#banana#cherry#mango\"\n",
    "x.split('#', 1)"
   ]
  },
  {
   "cell_type": "code",
   "execution_count": 55,
   "id": "35ec48f7-1d57-447b-af3f-747780e5d6be",
   "metadata": {},
   "outputs": [
    {
     "data": {
      "text/plain": [
       "['hello, my name is nitesh', 'i am 25 years old']"
      ]
     },
     "execution_count": 55,
     "metadata": {},
     "output_type": "execute_result"
    }
   ],
   "source": [
    "x=\"hello, my name is nitesh , i am 25 years old\"\n",
    "x.split(\" , \")"
   ]
  },
  {
   "cell_type": "code",
   "execution_count": 524,
   "id": "4d76793f-ff0f-4316-b793-a338a7b51831",
   "metadata": {},
   "outputs": [
    {
     "data": {
      "text/plain": [
       "'hello, my name is nitesh , i am 25 years old, and i am a hard worker and more patience'"
      ]
     },
     "execution_count": 524,
     "metadata": {},
     "output_type": "execute_result"
    }
   ],
   "source": [
    "## case fold and lower are same method\n",
    "x=\"Hello, my name is NITESH , i am 25 years old, AND I AM A HARD WORKER AND MORE PATIence\"\n",
    "x.casefold()"
   ]
  },
  {
   "cell_type": "code",
   "execution_count": 525,
   "id": "c40b5507-4aaf-4b07-9a11-c111dd6107c8",
   "metadata": {},
   "outputs": [
    {
     "data": {
      "text/plain": [
       "'       nitesh       '"
      ]
     },
     "execution_count": 525,
     "metadata": {},
     "output_type": "execute_result"
    }
   ],
   "source": [
    "#center method\n",
    "x=\"nitesh\"\n",
    "x.center(20)"
   ]
  },
  {
   "cell_type": "code",
   "execution_count": 71,
   "id": "0e772c29-44aa-4c2f-8049-f226036c7199",
   "metadata": {},
   "outputs": [
    {
     "data": {
      "text/plain": [
       "'1111111nitesh1111111'"
      ]
     },
     "execution_count": 71,
     "metadata": {},
     "output_type": "execute_result"
    }
   ],
   "source": [
    "x=\"nitesh\"\n",
    "x.center(20,'1')"
   ]
  },
  {
   "cell_type": "code",
   "execution_count": 526,
   "id": "4f9f0130-40f7-4f4b-892b-5f7a9022b12d",
   "metadata": {},
   "outputs": [
    {
     "data": {
      "text/plain": [
       "3"
      ]
     },
     "execution_count": 526,
     "metadata": {},
     "output_type": "execute_result"
    }
   ],
   "source": [
    "#find method\n",
    "x=\"my name is nitesh kumar\"\n",
    "x.find('n')"
   ]
  },
  {
   "cell_type": "code",
   "execution_count": 77,
   "id": "4be36151-1f6a-4741-bfbf-2a202bfc8ed1",
   "metadata": {},
   "outputs": [
    {
     "data": {
      "text/plain": [
       "8"
      ]
     },
     "execution_count": 77,
     "metadata": {},
     "output_type": "execute_result"
    }
   ],
   "source": [
    "x=\"my name is nitesh kumar\"\n",
    "x.find('is')"
   ]
  },
  {
   "cell_type": "code",
   "execution_count": 105,
   "id": "6667e89b-fbd7-49b1-8ec6-06a2be1485ea",
   "metadata": {},
   "outputs": [
    {
     "data": {
      "text/plain": [
       "1"
      ]
     },
     "execution_count": 105,
     "metadata": {},
     "output_type": "execute_result"
    }
   ],
   "source": [
    "x=\"hello my name is nitesh kumar\"\n",
    "x.find('e',0,20)\n",
    "\n"
   ]
  },
  {
   "cell_type": "code",
   "execution_count": 225,
   "id": "1239fd0a-7d4b-4976-b156-ec18f0b1dc91",
   "metadata": {},
   "outputs": [
    {
     "name": "stdout",
     "output_type": "stream",
     "text": [
      "-1\n"
     ]
    },
    {
     "ename": "ValueError",
     "evalue": "substring not found",
     "output_type": "error",
     "traceback": [
      "\u001b[1;31m---------------------------------------------------------------------------\u001b[0m",
      "\u001b[1;31mValueError\u001b[0m                                Traceback (most recent call last)",
      "Cell \u001b[1;32mIn[225], line 5\u001b[0m\n\u001b[0;32m      2\u001b[0m txt \u001b[38;5;241m=\u001b[39m \u001b[38;5;124m\"\u001b[39m\u001b[38;5;124mHello, welcome to my world.\u001b[39m\u001b[38;5;124m\"\u001b[39m\n\u001b[0;32m      4\u001b[0m \u001b[38;5;28mprint\u001b[39m(txt\u001b[38;5;241m.\u001b[39mfind(\u001b[38;5;124m\"\u001b[39m\u001b[38;5;124mq\u001b[39m\u001b[38;5;124m\"\u001b[39m))\n\u001b[1;32m----> 5\u001b[0m \u001b[38;5;28mprint\u001b[39m(txt\u001b[38;5;241m.\u001b[39mindex(\u001b[38;5;124m\"\u001b[39m\u001b[38;5;124mq\u001b[39m\u001b[38;5;124m\"\u001b[39m))\n",
      "\u001b[1;31mValueError\u001b[0m: substring not found"
     ]
    }
   ],
   "source": [
    "## find and index method\n",
    "txt = \"Hello, welcome to my world.\"\n",
    "\n",
    "print(txt.find(\"q\"))\n",
    "print(txt.index(\"q\"))"
   ]
  },
  {
   "cell_type": "code",
   "execution_count": 226,
   "id": "3cdbc3b5-9731-4834-af1b-857501c8721f",
   "metadata": {},
   "outputs": [
    {
     "data": {
      "text/plain": [
       "'my name is nitesh kumar'"
      ]
     },
     "execution_count": 226,
     "metadata": {},
     "output_type": "execute_result"
    }
   ],
   "source": [
    "# formate method\n",
    "x=\"my name is {name} kumar\"\n",
    "x.format(name=\"nitesh\")"
   ]
  },
  {
   "cell_type": "code",
   "execution_count": 227,
   "id": "baf1ea6b-f56b-4b42-93da-d99525074e89",
   "metadata": {},
   "outputs": [
    {
     "data": {
      "text/plain": [
       "'my name is nitesh kumar'"
      ]
     },
     "execution_count": 227,
     "metadata": {},
     "output_type": "execute_result"
    }
   ],
   "source": [
    "#ormat method\n",
    "x=\"my name is {} kumar\"\n",
    "x.format(\"nitesh\")"
   ]
  },
  {
   "cell_type": "code",
   "execution_count": 110,
   "id": "ba67ecbe-ca72-4bc7-954b-decb5f551a5a",
   "metadata": {},
   "outputs": [
    {
     "data": {
      "text/plain": [
       "'mango rate 49.00 pr kg'"
      ]
     },
     "execution_count": 110,
     "metadata": {},
     "output_type": "execute_result"
    }
   ],
   "source": [
    "x=\"mango rate {price:.2f} pr kg\"\n",
    "x.format(price=49)"
   ]
  },
  {
   "cell_type": "code",
   "execution_count": 128,
   "id": "1e886c93-375c-451b-9db7-f86e70a7f033",
   "metadata": {},
   "outputs": [
    {
     "name": "stdout",
     "output_type": "stream",
     "text": [
      "my name is nitesh kumar , i am 25 years old\n",
      "my name is nitesh kumar , i am 25 years old\n",
      "my name is nitesh kumar , i am 25 years old\n"
     ]
    }
   ],
   "source": [
    "x=(\"my name is {name} kumar , i am {age} years old\".format(name=\"nitesh\",age=25))\n",
    "y=(\"my name is {0} kumar , i am {1} years old\".format(\"nitesh\",25))\n",
    "z=(\"my name is {} kumar , i am {} years old\".format(\"nitesh\",25))\n",
    "print(x)\n",
    "print(y)\n",
    "print(z)"
   ]
  },
  {
   "cell_type": "code",
   "execution_count": 527,
   "id": "7c861e18-d014-4d28-9d0b-3d330f6b90dc",
   "metadata": {},
   "outputs": [
    {
     "data": {
      "text/plain": [
       "'i have 49       bike'"
      ]
     },
     "execution_count": 527,
     "metadata": {},
     "output_type": "execute_result"
    }
   ],
   "source": [
    "                                                             ## format types\n",
    "# left aligns\n",
    "x=\"i have {:<8} bike\"\n",
    "x.format(49)"
   ]
  },
  {
   "cell_type": "code",
   "execution_count": 123,
   "id": "0c6aa7e9-9a64-4306-8564-fe51efe96178",
   "metadata": {},
   "outputs": [
    {
     "data": {
      "text/plain": [
       "'i have       49 bike'"
      ]
     },
     "execution_count": 123,
     "metadata": {},
     "output_type": "execute_result"
    }
   ],
   "source": [
    "# right aligns\n",
    "x=\"i have {:>8} bike\"\n",
    "x.format(49)"
   ]
  },
  {
   "cell_type": "code",
   "execution_count": 124,
   "id": "664b8104-7551-40c1-8413-c78363a70bdf",
   "metadata": {},
   "outputs": [
    {
     "data": {
      "text/plain": [
       "'i have    49    bike'"
      ]
     },
     "execution_count": 124,
     "metadata": {},
     "output_type": "execute_result"
    }
   ],
   "source": [
    "# center aligns\n",
    "x=\"i have {:^8} bike\"\n",
    "x.format(49)"
   ]
  },
  {
   "cell_type": "code",
   "execution_count": 131,
   "id": "91bc4b06-b3bc-414a-bace-e1e3249ed0e8",
   "metadata": {},
   "outputs": [
    {
     "data": {
      "text/plain": [
       "'my account balanced 125,000,000'"
      ]
     },
     "execution_count": 131,
     "metadata": {},
     "output_type": "execute_result"
    }
   ],
   "source": [
    "## thousand seprater\n",
    "x=\"my account balanced {:,}\"\n",
    "x.format(125000000)"
   ]
  },
  {
   "cell_type": "code",
   "execution_count": 132,
   "id": "6ee7af93-9f41-48d2-ad3c-5d75b00fa311",
   "metadata": {},
   "outputs": [
    {
     "data": {
      "text/plain": [
       "'my account balanced 125_000_000'"
      ]
     },
     "execution_count": 132,
     "metadata": {},
     "output_type": "execute_result"
    }
   ],
   "source": [
    "## thousand underscore\n",
    "x=\"my account balanced {:_}\"\n",
    "x.format(125000000)"
   ]
  },
  {
   "cell_type": "code",
   "execution_count": 134,
   "id": "25c01afc-a8ae-47e1-a492-e27c46b2271b",
   "metadata": {},
   "outputs": [
    {
     "data": {
      "text/plain": [
       "'my account balanced 11101010'"
      ]
     },
     "execution_count": 134,
     "metadata": {},
     "output_type": "execute_result"
    }
   ],
   "source": [
    "## binary format\n",
    "x=\"my account balanced {:b}\"\n",
    "x.format(234)"
   ]
  },
  {
   "cell_type": "code",
   "execution_count": 133,
   "id": "2fe279d1-373c-4ee8-9728-4079c867e776",
   "metadata": {},
   "outputs": [
    {
     "name": "stdout",
     "output_type": "stream",
     "text": [
      "We have 61 chickens.\n"
     ]
    }
   ],
   "source": [
    "## to binary number into decimal\n",
    "txt = \"We have {:d} chickens.\"\n",
    "print(txt.format(0b111101))\n"
   ]
  },
  {
   "cell_type": "code",
   "execution_count": 140,
   "id": "b0278946-e37d-4afa-9a9e-f423d137f8f8",
   "metadata": {},
   "outputs": [
    {
     "data": {
      "text/plain": [
       "'percentage of 35.000000%'"
      ]
     },
     "execution_count": 140,
     "metadata": {},
     "output_type": "execute_result"
    }
   ],
   "source": [
    "# convert into percentage with decilmal\n",
    "x=\"percentage of {:%}\"\n",
    "x.format(0.35)"
   ]
  },
  {
   "cell_type": "code",
   "execution_count": 139,
   "id": "a78002b5-0ab5-4d51-b5f9-aacdef2ef4dd",
   "metadata": {},
   "outputs": [
    {
     "data": {
      "text/plain": [
       "'percentage of 35%'"
      ]
     },
     "execution_count": 139,
     "metadata": {},
     "output_type": "execute_result"
    }
   ],
   "source": [
    "# convert into percentage without decilmal\n",
    "x=\"percentage of {:.0%}\"\n",
    "x.format(0.35)"
   ]
  },
  {
   "cell_type": "code",
   "execution_count": 153,
   "id": "7c1afb55-fc4c-4019-a139-bf9dca70aee2",
   "metadata": {},
   "outputs": [
    {
     "name": "stdout",
     "output_type": "stream",
     "text": [
      "True\n",
      "True\n",
      "True\n"
     ]
    }
   ],
   "source": [
    "## isalnum method\n",
    "a = \"Company12\"\n",
    "b= \"46567\"\n",
    "c=\"hcompany\"\n",
    "x = a.isalnum()\n",
    "y = b.isalnum()\n",
    "z = c.isalnum()\n",
    "print(x)\n",
    "print(y)\n",
    "print(z)"
   ]
  },
  {
   "cell_type": "code",
   "execution_count": 152,
   "id": "7fc78a1f-14be-4dcd-a534-a25d4f6e46ba",
   "metadata": {},
   "outputs": [
    {
     "name": "stdout",
     "output_type": "stream",
     "text": [
      "True\n",
      "False\n"
     ]
    }
   ],
   "source": [
    "## isalpha method\n",
    "a = \"Company\"\n",
    "b= \"company12\"\n",
    "x = a.isalpha()\n",
    "print(x)\n",
    "y = b.isalpha()\n",
    "print(y)"
   ]
  },
  {
   "cell_type": "code",
   "execution_count": 162,
   "id": "a44b20ff-9c11-4b2d-85aa-e6e20822c594",
   "metadata": {},
   "outputs": [
    {
     "name": "stdout",
     "output_type": "stream",
     "text": [
      "False\n",
      "True\n",
      "False\n",
      "True\n"
     ]
    }
   ],
   "source": [
    "## isdigit method\n",
    "a= \"company12\"\n",
    "b= \"\\u0030\"   ## unique code of 0 then this s true , means unique  code in isdigit will be true\n",
    "c= \"a0123\"\n",
    "d= \"76876\"\n",
    "x = a.isdigit()\n",
    "y = b.isdigit()\n",
    "z = c.isdigit()\n",
    "v = d.isdigit()\n",
    "print(x)\n",
    "print(y)\n",
    "print(z)\n",
    "print(v)"
   ]
  },
  {
   "cell_type": "code",
   "execution_count": 164,
   "id": "ad91c4e6-3a82-46b2-a83f-5b4cc7bced3f",
   "metadata": {},
   "outputs": [
    {
     "name": "stdout",
     "output_type": "stream",
     "text": [
      "False\n",
      "True\n",
      "False\n"
     ]
    }
   ],
   "source": [
    "## islower\n",
    "a = \"Hello world!\"\n",
    "b = \"hello 123\"\n",
    "c = \"mynameiPeter\"\n",
    "\n",
    "print(a.islower())\n",
    "print(b.islower())\n",
    "print(c.islower())\n"
   ]
  },
  {
   "cell_type": "code",
   "execution_count": 169,
   "id": "53110794-0738-4583-a292-e1715ae7a26a",
   "metadata": {},
   "outputs": [
    {
     "name": "stdout",
     "output_type": "stream",
     "text": [
      "True\n",
      "True\n",
      "False\n",
      "False\n",
      "False\n",
      "True\n"
     ]
    }
   ],
   "source": [
    "##  isnumeric method\n",
    "a = \"\\u0030\" #unicode for 0\n",
    "b = \"\\u00B2\" #unicode for ²\n",
    "c = \"10km2\"\n",
    "d = \"-1\"\n",
    "e = \"1.5\"\n",
    "f = \"7656878601\"\n",
    "\n",
    "print(a.isnumeric())\n",
    "print(b.isnumeric())\n",
    "print(c.isnumeric())\n",
    "print(d.isnumeric())\n",
    "print(e.isnumeric())\n",
    "print(f.isnumeric())\n"
   ]
  },
  {
   "cell_type": "code",
   "execution_count": 168,
   "id": "f46a7a96-4775-47fe-b156-9fa1e05fa30b",
   "metadata": {},
   "outputs": [
    {
     "name": "stdout",
     "output_type": "stream",
     "text": [
      "banana.......\n",
      ",,,,,ssaaww.....banana\n"
     ]
    }
   ],
   "source": [
    "## lstrip and rstrip method\n",
    "txt = \",,,,,ssaaww.....banana.......\"\n",
    "\n",
    "x = txt.lstrip(\",.saw\")\n",
    "y = txt.rstrip(\".\")\n",
    "\n",
    "print(x)\n",
    "print(y)\n"
   ]
  },
  {
   "cell_type": "code",
   "execution_count": 175,
   "id": "8c099636-c4a4-4345-8b0b-bcf3bb67ac4a",
   "metadata": {},
   "outputs": [
    {
     "data": {
      "text/plain": [
       "'one one one one three three'"
      ]
     },
     "execution_count": 175,
     "metadata": {},
     "output_type": "execute_result"
    }
   ],
   "source": [
    "## replace method\n",
    "x= \"two two two two three three\"\n",
    "x.replace(\"two\", \"one\")\n"
   ]
  },
  {
   "cell_type": "code",
   "execution_count": 176,
   "id": "05db33fd-2277-467c-b254-f18920119705",
   "metadata": {},
   "outputs": [
    {
     "data": {
      "text/plain": [
       "'one one two two three three'"
      ]
     },
     "execution_count": 176,
     "metadata": {},
     "output_type": "execute_result"
    }
   ],
   "source": [
    "## replace method\n",
    "x= \"two two two two three three\"\n",
    "x.replace(\"two\", \"one\", 2)"
   ]
  },
  {
   "cell_type": "code",
   "execution_count": 177,
   "id": "31bcb794-1aac-425d-bdf4-3541e0da37c3",
   "metadata": {},
   "outputs": [
    {
     "data": {
      "text/plain": [
       "'heLLO woRLD'"
      ]
     },
     "execution_count": 177,
     "metadata": {},
     "output_type": "execute_result"
    }
   ],
   "source": [
    "## swapcase\n",
    "x=\"HEllo WOrld\"\n",
    "x.swapcase()"
   ]
  },
  {
   "cell_type": "markdown",
   "id": "30d3f5c6-e677-43ff-8570-6ec8c30cb9be",
   "metadata": {},
   "source": [
    "## LIST"
   ]
  },
  {
   "cell_type": "code",
   "execution_count": 191,
   "id": "4d8030ee-a113-4420-8eb6-6d9ec98278d2",
   "metadata": {},
   "outputs": [
    {
     "name": "stdout",
     "output_type": "stream",
     "text": [
      "['apple', 'banana', 'cherry', 'orange']\n"
     ]
    }
   ],
   "source": [
    "#  append\n",
    "fruits = [\"apple\", \"banana\", \"cherry\"]\n",
    "fruits.append(\"orange\")\n",
    "print(fruits)"
   ]
  },
  {
   "cell_type": "code",
   "execution_count": 194,
   "id": "8f25129a-a97e-45e7-bd4a-c0efb846f6e8",
   "metadata": {},
   "outputs": [
    {
     "name": "stdout",
     "output_type": "stream",
     "text": [
      "['apple', 'banana', 'cherry', ['Ford', 'BMW', 'Volvo']]\n"
     ]
    }
   ],
   "source": [
    "# append\n",
    "a = [\"apple\", \"banana\", \"cherry\"]\n",
    "b = [\"Ford\", \"BMW\", \"Volvo\"]\n",
    "a.append(b)\n",
    "print(a)\n",
    "\n"
   ]
  },
  {
   "cell_type": "code",
   "execution_count": 193,
   "id": "a67b2b43-0eb8-4090-9314-5326fa003812",
   "metadata": {},
   "outputs": [
    {
     "name": "stdout",
     "output_type": "stream",
     "text": [
      "[]\n"
     ]
    }
   ],
   "source": [
    "# clear\n",
    "x = [1,2,3,4,5,6,]\n",
    "x.clear()\n",
    "print(x)"
   ]
  },
  {
   "cell_type": "code",
   "execution_count": 195,
   "id": "4fbb996b-e721-44f9-83ec-13c30c8d9701",
   "metadata": {},
   "outputs": [
    {
     "name": "stdout",
     "output_type": "stream",
     "text": [
      "[1, 2, 3, 4, 5, 6]\n"
     ]
    }
   ],
   "source": [
    "#copy\n",
    "x = [1,2,3,4,5,6,]\n",
    "x.copy()\n",
    "print(x)"
   ]
  },
  {
   "cell_type": "code",
   "execution_count": 199,
   "id": "bbbbcc16-9cff-4879-8d50-a17c11dedf38",
   "metadata": {},
   "outputs": [
    {
     "name": "stdout",
     "output_type": "stream",
     "text": [
      "3\n"
     ]
    }
   ],
   "source": [
    "#count\n",
    "x = [1,2,3,3,3,4,5,6,]\n",
    "y=x.count(3)\n",
    "print(y)"
   ]
  },
  {
   "cell_type": "code",
   "execution_count": 216,
   "id": "c02e54d2-3152-4186-be07-c81c789eead5",
   "metadata": {},
   "outputs": [
    {
     "name": "stdout",
     "output_type": "stream",
     "text": [
      "[1, 2, 3, 4, 3, 2]\n"
     ]
    }
   ],
   "source": [
    "# extend   with list\n",
    "a=[1,2,3]\n",
    "b=[4,3,2]\n",
    "a.extend(b)\n",
    "print(a)"
   ]
  },
  {
   "cell_type": "code",
   "execution_count": 217,
   "id": "b541d030-cc83-4e6f-a8c6-9cd9478ab0fa",
   "metadata": {},
   "outputs": [
    {
     "name": "stdout",
     "output_type": "stream",
     "text": [
      "[1, 2, 3, 4, 3, 4]\n"
     ]
    }
   ],
   "source": [
    "# extend    with tuple\n",
    "a=[1,2,3]\n",
    "b=(4,3,4)\n",
    "a.extend(b)\n",
    "print(a)\n"
   ]
  },
  {
   "cell_type": "code",
   "execution_count": 218,
   "id": "26eb9d11-25a7-487f-99d8-3c080c08e5a2",
   "metadata": {},
   "outputs": [
    {
     "name": "stdout",
     "output_type": "stream",
     "text": [
      "[1, 2, 3, 1, 2, 3]\n"
     ]
    }
   ],
   "source": [
    "# extend   with set\n",
    "a=[1,2,3]\n",
    "b={1,2,3}\n",
    "a.extend(b)\n",
    "print(a)"
   ]
  },
  {
   "cell_type": "code",
   "execution_count": 224,
   "id": "32309691-4eb7-42c4-b83c-20e19f5b80b9",
   "metadata": {},
   "outputs": [
    {
     "name": "stdout",
     "output_type": "stream",
     "text": [
      "[1, 2, 3, 'name', 'age']\n"
     ]
    }
   ],
   "source": [
    "#extend   with dictionary\n",
    "a=[1,2,3]\n",
    "b={\"name\":\"nitesh\",\n",
    "  \"age\":24}\n",
    "a.extend(b)\n",
    "print(a)"
   ]
  },
  {
   "cell_type": "code",
   "execution_count": 232,
   "id": "c2c05baa-f450-4d44-ba52-2dd4fc968954",
   "metadata": {},
   "outputs": [
    {
     "name": "stdout",
     "output_type": "stream",
     "text": [
      "2\n",
      "1\n"
     ]
    }
   ],
   "source": [
    "#index method\n",
    "x=[\"nitesh\",\"kumar\",22,444,55,]\n",
    "y=x.index(22)\n",
    "z=x.index('kumar')\n",
    "print(y)\n",
    "print(z)"
   ]
  },
  {
   "cell_type": "code",
   "execution_count": 235,
   "id": "cb7924f6-5a2b-454e-9838-9ebf8523a049",
   "metadata": {},
   "outputs": [
    {
     "name": "stdout",
     "output_type": "stream",
     "text": [
      "['apple', 'orange', 'banana', 'cherry']\n"
     ]
    }
   ],
   "source": [
    "# insert method\n",
    "x = ['apple', 'banana', 'cherry']\n",
    "\n",
    "x.insert(1, \"orange\")\n",
    "print(x)"
   ]
  },
  {
   "cell_type": "code",
   "execution_count": 237,
   "id": "ed830a5f-c5ec-44b8-8aa2-15fe6ed4e3c4",
   "metadata": {},
   "outputs": [
    {
     "name": "stdout",
     "output_type": "stream",
     "text": [
      "[3, 1, 4, 3, 6, 4, 7]\n"
     ]
    }
   ],
   "source": [
    "# insert method\n",
    "x= [3,1,3,6,4,7]\n",
    "x.insert(2,4)\n",
    "print(x)"
   ]
  },
  {
   "cell_type": "code",
   "execution_count": 240,
   "id": "fec06304-d213-46ce-b265-beab6988e8c1",
   "metadata": {},
   "outputs": [
    {
     "name": "stdout",
     "output_type": "stream",
     "text": [
      "banana\n",
      "cherry\n"
     ]
    }
   ],
   "source": [
    "# pop method\n",
    "fruits = ['apple', 'banana', 'cherry']\n",
    "x=fruits.pop(1)\n",
    "y=fruits.pop()\n",
    "print(x)\n",
    "print(y)"
   ]
  },
  {
   "cell_type": "code",
   "execution_count": 243,
   "id": "bef7c3a6-e4cb-48d6-96b5-87eab2133d6a",
   "metadata": {},
   "outputs": [
    {
     "name": "stdout",
     "output_type": "stream",
     "text": [
      "['apple', 'cherry']\n"
     ]
    }
   ],
   "source": [
    "# remove method\n",
    "fruits = ['apple', 'banana', 'cherry']\n",
    "fruits.remove(\"banana\")\n",
    "print(fruits)\n"
   ]
  },
  {
   "cell_type": "code",
   "execution_count": 245,
   "id": "f7502001-0400-49ab-8e4f-165e06f3cd24",
   "metadata": {},
   "outputs": [
    {
     "name": "stdout",
     "output_type": "stream",
     "text": [
      "['cherry', 'banana', 'apple']\n"
     ]
    }
   ],
   "source": [
    "# reverse method\n",
    "fruits = ['apple', 'banana', 'cherry']\n",
    "fruits.reverse()\n",
    "print(fruits)"
   ]
  },
  {
   "cell_type": "code",
   "execution_count": 255,
   "id": "bff66fe4-d26b-4d05-afbe-f0f11d9f2af1",
   "metadata": {},
   "outputs": [
    {
     "name": "stdout",
     "output_type": "stream",
     "text": [
      "[{1, 2, 3}, {'a'}, ('a', 'b'), 'a', [1, 2, 3], 4, 2, 1, 'kumar', 'nitesh']\n"
     ]
    }
   ],
   "source": [
    "# reverse method\n",
    "x=[\"nitesh\",\"kumar\",1,2,4,[1,2,3],('a'),('a','b'),{'a'},{1,2,3}]\n",
    "x.reverse()\n",
    "print(x)"
   ]
  },
  {
   "cell_type": "code",
   "execution_count": 256,
   "id": "8b850d92-9509-48cf-ab76-3b0e4b1ec374",
   "metadata": {},
   "outputs": [
    {
     "name": "stdout",
     "output_type": "stream",
     "text": [
      "['BMW', 'Ford', 'Volvo']\n"
     ]
    }
   ],
   "source": [
    "# sort method\n",
    "cars = ['Ford', 'BMW', 'Volvo']\n",
    "\n",
    "cars.sort()\n",
    "\n",
    "print(cars)"
   ]
  },
  {
   "cell_type": "code",
   "execution_count": 475,
   "id": "acee0459-156e-451c-b9fa-eb561a732345",
   "metadata": {},
   "outputs": [
    {
     "name": "stdout",
     "output_type": "stream",
     "text": [
      "['Volvo', 'Ford', 'BMW']\n"
     ]
    }
   ],
   "source": [
    "# sort method\n",
    "cars = ['Ford', 'BMW', 'Volvo']\n",
    "\n",
    "cars.sort(reverse=True)\n",
    "\n",
    "print(cars)                            #   doubt??????????????????????????????????????????????????????????????? doubt"
   ]
  },
  {
   "cell_type": "code",
   "execution_count": 474,
   "id": "14e0dd1c-5d0b-4c86-8e33-6876ccd641e4",
   "metadata": {},
   "outputs": [
    {
     "name": "stdout",
     "output_type": "stream",
     "text": [
      "['BMW', 'Ford', 'Mitsubishi', 'VW']\n"
     ]
    }
   ],
   "source": [
    "cars = ['Ford', 'Mitsubishi', 'BMW', 'VW']\n",
    "\n",
    "cars.sort()\n",
    "\n",
    "print(cars)\n",
    "\n",
    "                         # doubt   ??????????????????????????????????????????????????????????????????????????????   doubt"
   ]
  },
  {
   "cell_type": "markdown",
   "id": "6717d339-b49b-4287-829d-d3da755d9b4f",
   "metadata": {},
   "source": [
    "## TUPLE\n",
    "immutable , duplicate value, orderd"
   ]
  },
  {
   "cell_type": "code",
   "execution_count": 273,
   "id": "732b781e-91de-4f55-95f1-0a3c7b547636",
   "metadata": {},
   "outputs": [
    {
     "name": "stdout",
     "output_type": "stream",
     "text": [
      "4\n",
      "2\n"
     ]
    }
   ],
   "source": [
    "# index method\n",
    "x = (1, 3, 7, 8,'nitesh', 7, 5, 4, 6, 8, 5)\n",
    "y=x.index('nitesh')\n",
    "z=x.index(7)\n",
    "print(y)\n",
    "print(z)"
   ]
  },
  {
   "cell_type": "code",
   "execution_count": 271,
   "id": "57f677b4-c9ce-439b-97fd-f92a26a0a9fc",
   "metadata": {},
   "outputs": [
    {
     "name": "stdout",
     "output_type": "stream",
     "text": [
      "1\n",
      "2\n"
     ]
    }
   ],
   "source": [
    "## count method\n",
    "x = (1, 3, 7, 8,'nitesh', 7, 5, 4, 6, 8, 5)\n",
    "y=x.count('nitesh')\n",
    "z=x.count(7)\n",
    "print(y)\n",
    "print(z)"
   ]
  },
  {
   "cell_type": "markdown",
   "id": "c7a989b1-d882-4a8c-ba7d-cff11e3ff42d",
   "metadata": {},
   "source": [
    "## set\n",
    "  mutable, unorderd, duplicate not allow\n",
    "  "
   ]
  },
  {
   "cell_type": "code",
   "execution_count": 297,
   "id": "2b3b474b-9be5-41b7-bc43-764f44673c98",
   "metadata": {},
   "outputs": [
    {
     "name": "stdout",
     "output_type": "stream",
     "text": [
      "{1, 2, 3, 4, 5, 6, 7}\n"
     ]
    }
   ],
   "source": [
    "#add method\n",
    "x={1,2,4,5,4,7,6}\n",
    "x.add(3)\n",
    "print(x)"
   ]
  },
  {
   "cell_type": "code",
   "execution_count": 299,
   "id": "21f9e61b-9729-49bb-b1f1-5f2513ac0928",
   "metadata": {},
   "outputs": [
    {
     "name": "stdout",
     "output_type": "stream",
     "text": [
      "{'kumar', 'sah', 'king', 'nitesh'}\n"
     ]
    }
   ],
   "source": [
    "#add method\n",
    "x={'nitesh','kumar','sah'}\n",
    "x.add('king')\n",
    "print(x)"
   ]
  },
  {
   "cell_type": "code",
   "execution_count": 302,
   "id": "bb14f1f9-df15-4965-b5d7-d35dc0dbacd8",
   "metadata": {},
   "outputs": [
    {
     "name": "stdout",
     "output_type": "stream",
     "text": [
      "{'apple', 'banana', 'orange', 'cherry'}\n"
     ]
    }
   ],
   "source": [
    "#add method\n",
    "thisset = {\"apple\", \"banana\", \"cherry\"}\n",
    "thisset.add(\"orange\")\n",
    "print(thisset)"
   ]
  },
  {
   "cell_type": "code",
   "execution_count": 304,
   "id": "59db394f-9873-41dc-8535-556b0fc430e0",
   "metadata": {},
   "outputs": [
    {
     "name": "stdout",
     "output_type": "stream",
     "text": [
      "{1, 2, 4, 5, 6, 7}\n"
     ]
    }
   ],
   "source": [
    "#add method\n",
    "x={1,2,5,4,7,6}      #add element that already exists their will be no any changes\n",
    "x.add(4)\n",
    "print(x)"
   ]
  },
  {
   "cell_type": "code",
   "execution_count": 305,
   "id": "31f4b71a-33eb-445d-ad90-3e424eb1f701",
   "metadata": {},
   "outputs": [
    {
     "name": "stdout",
     "output_type": "stream",
     "text": [
      "set()\n"
     ]
    }
   ],
   "source": [
    "#clear method\n",
    "x={1,2,4,5,4,7,6}\n",
    "x.clear()\n",
    "print(x)"
   ]
  },
  {
   "cell_type": "code",
   "execution_count": 309,
   "id": "bec46065-3064-43dc-9571-1c51c8356837",
   "metadata": {},
   "outputs": [
    {
     "name": "stdout",
     "output_type": "stream",
     "text": [
      "{'apple', 'banana', 'mangoes', 'cherry'}\n"
     ]
    }
   ],
   "source": [
    "# copy method\n",
    "fruits = {\"apple\", \"banana\", \"cherry\" , \"mangoes\"}\n",
    "x = fruits.copy()\n",
    "print(x)\n"
   ]
  },
  {
   "cell_type": "code",
   "execution_count": 317,
   "id": "15ea0edf-ace8-4b76-ab45-2478b4fdb680",
   "metadata": {},
   "outputs": [
    {
     "name": "stdout",
     "output_type": "stream",
     "text": [
      "{1, 2, 3, 4}\n"
     ]
    }
   ],
   "source": [
    "# copy method\n",
    "x={1,3,4,2}\n",
    "x.copy()\n",
    "print(x)"
   ]
  },
  {
   "cell_type": "code",
   "execution_count": 371,
   "id": "52b3d5b1-3623-4736-a75b-786a54a0dd88",
   "metadata": {},
   "outputs": [
    {
     "data": {
      "text/plain": [
       "{1, 3}"
      ]
     },
     "execution_count": 371,
     "metadata": {},
     "output_type": "execute_result"
    }
   ],
   "source": [
    "# difference method\n",
    "x={1,2,3,4}\n",
    "y={4,2,6}\n",
    "x.difference(y)"
   ]
  },
  {
   "cell_type": "code",
   "execution_count": 372,
   "id": "cc822a9b-7498-4214-8ab9-9806ad893111",
   "metadata": {},
   "outputs": [
    {
     "data": {
      "text/plain": [
       "{6}"
      ]
     },
     "execution_count": 372,
     "metadata": {},
     "output_type": "execute_result"
    }
   ],
   "source": [
    "# difference method\n",
    "x={1,2,3,4}\n",
    "y={4,2,6}\n",
    "y.difference(x)"
   ]
  },
  {
   "cell_type": "code",
   "execution_count": 325,
   "id": "29bc45d8-035b-4b7b-a3af-b4793dfb6185",
   "metadata": {},
   "outputs": [
    {
     "name": "stdout",
     "output_type": "stream",
     "text": [
      "{1, 3}\n"
     ]
    }
   ],
   "source": [
    "# difference method\n",
    "x={1,2,3,4}\n",
    "y={4,2,6}\n",
    "a= x-y\n",
    "print(a)"
   ]
  },
  {
   "cell_type": "code",
   "execution_count": 347,
   "id": "a6dd702f-7aed-4e00-844e-4cf7b8ed8cc2",
   "metadata": {},
   "outputs": [
    {
     "data": {
      "text/plain": [
       "{4}"
      ]
     },
     "execution_count": 347,
     "metadata": {},
     "output_type": "execute_result"
    }
   ],
   "source": [
    "# difference method  more then two set\n",
    "x={1,2,3,4}\n",
    "y={1,2,3,6}\n",
    "z={1,7,5,6}\n",
    "x.difference(y,z)"
   ]
  },
  {
   "cell_type": "code",
   "execution_count": 335,
   "id": "f051f1ad-f867-44f8-a00e-1c46d240c4bc",
   "metadata": {},
   "outputs": [
    {
     "name": "stdout",
     "output_type": "stream",
     "text": [
      "{4}\n"
     ]
    }
   ],
   "source": [
    "# difference method  more then two set\n",
    "x={1,2,3,4}\n",
    "y={1,2,3,6}\n",
    "z={1,7,5,6}\n",
    "a=x-y-z\n",
    "print(a)"
   ]
  },
  {
   "cell_type": "code",
   "execution_count": 341,
   "id": "5d9ff6be-5f29-422c-9c39-6e8e8a560669",
   "metadata": {},
   "outputs": [
    {
     "name": "stdout",
     "output_type": "stream",
     "text": [
      "{1, 3}\n"
     ]
    }
   ],
   "source": [
    "# difference_update method\n",
    "x={1,2,3,4}\n",
    "y={4,2,6}\n",
    "x -= y\n",
    "print(x)"
   ]
  },
  {
   "cell_type": "code",
   "execution_count": 344,
   "id": "57d58e62-b253-4885-aa4b-3807641c416f",
   "metadata": {},
   "outputs": [
    {
     "name": "stdout",
     "output_type": "stream",
     "text": [
      "{4}\n"
     ]
    }
   ],
   "source": [
    "# difference_update method  more then two set\n",
    "x={1,2,3,4}\n",
    "y={1,2,3,6}\n",
    "z={1,7,5,6}\n",
    "x.difference_update(y,z)\n",
    "print(x)"
   ]
  },
  {
   "cell_type": "code",
   "execution_count": 351,
   "id": "c9f4d793-9b80-4f6a-932e-62fba2e152eb",
   "metadata": {},
   "outputs": [
    {
     "name": "stdout",
     "output_type": "stream",
     "text": [
      "{1, 3}\n"
     ]
    }
   ],
   "source": [
    "# difference_update method\n",
    "x={1,2,3,4}\n",
    "y={4,2,6}\n",
    "x.difference_update(y)\n",
    "print(x)"
   ]
  },
  {
   "cell_type": "code",
   "execution_count": 353,
   "id": "be0be0b6-3f41-4ff2-8218-c71679cf2171",
   "metadata": {},
   "outputs": [
    {
     "name": "stdout",
     "output_type": "stream",
     "text": [
      "{1, 2, 4}\n"
     ]
    }
   ],
   "source": [
    "# disacrd method\n",
    "x={1,2,3,4}\n",
    "x.discard(3)\n",
    "print(x)"
   ]
  },
  {
   "cell_type": "code",
   "execution_count": 357,
   "id": "6ca81226-a8fc-4d34-be46-199861c76f32",
   "metadata": {},
   "outputs": [
    {
     "name": "stdout",
     "output_type": "stream",
     "text": [
      "{1, 2, 3, 4}\n"
     ]
    },
    {
     "ename": "KeyError",
     "evalue": "5",
     "output_type": "error",
     "traceback": [
      "\u001b[1;31m---------------------------------------------------------------------------\u001b[0m",
      "\u001b[1;31mKeyError\u001b[0m                                  Traceback (most recent call last)",
      "Cell \u001b[1;32mIn[357], line 8\u001b[0m\n\u001b[0;32m      6\u001b[0m \u001b[38;5;66;03m# remove method apply when item not exists\u001b[39;00m\n\u001b[0;32m      7\u001b[0m y\u001b[38;5;241m=\u001b[39m{\u001b[38;5;241m1\u001b[39m,\u001b[38;5;241m2\u001b[39m,\u001b[38;5;241m3\u001b[39m,\u001b[38;5;241m4\u001b[39m}\n\u001b[1;32m----> 8\u001b[0m y\u001b[38;5;241m.\u001b[39mremove(\u001b[38;5;241m5\u001b[39m)\n\u001b[0;32m      9\u001b[0m \u001b[38;5;28mprint\u001b[39m(y)\n",
      "\u001b[1;31mKeyError\u001b[0m: 5"
     ]
    }
   ],
   "source": [
    "# disacrd method apply when item not exists\n",
    "x={1,2,3,4}\n",
    "x.discard(5)\n",
    "print(x)\n",
    "\n",
    "# remove method apply when item not exists\n",
    "y={1,2,3,4}\n",
    "y.remove(5)\n",
    "print(y)"
   ]
  },
  {
   "cell_type": "code",
   "execution_count": 362,
   "id": "f251f7b5-89cf-4e47-a2d9-8c8e8b030cf5",
   "metadata": {},
   "outputs": [
    {
     "data": {
      "text/plain": [
       "{1, 3}"
      ]
     },
     "execution_count": 362,
     "metadata": {},
     "output_type": "execute_result"
    }
   ],
   "source": [
    "## intersection method (&)\n",
    "x={1,2,3,5}\n",
    "y={1,3,4,6}\n",
    "x.intersection(y)"
   ]
  },
  {
   "cell_type": "code",
   "execution_count": 363,
   "id": "3d27ccb5-f533-48ef-9008-a57322b9a7df",
   "metadata": {},
   "outputs": [
    {
     "data": {
      "text/plain": [
       "{1, 3}"
      ]
     },
     "execution_count": 363,
     "metadata": {},
     "output_type": "execute_result"
    }
   ],
   "source": [
    "## intersection method (&)\n",
    "x={1,2,3,5}\n",
    "y={1,3,4,6}\n",
    "x & y"
   ]
  },
  {
   "cell_type": "code",
   "execution_count": 367,
   "id": "e93440fb-28e7-4ce9-a4ee-b1463b6ce22d",
   "metadata": {},
   "outputs": [
    {
     "data": {
      "text/plain": [
       "{1}"
      ]
     },
     "execution_count": 367,
     "metadata": {},
     "output_type": "execute_result"
    }
   ],
   "source": [
    "# intersection method (&)\n",
    "x={1,2,3,5}\n",
    "y={1,3,4,6}\n",
    "z={1,7,4,9}\n",
    "x.intersection(y,z)"
   ]
  },
  {
   "cell_type": "code",
   "execution_count": 368,
   "id": "32a1220f-875b-4854-bc82-3445408541c0",
   "metadata": {},
   "outputs": [
    {
     "data": {
      "text/plain": [
       "{1}"
      ]
     },
     "execution_count": 368,
     "metadata": {},
     "output_type": "execute_result"
    }
   ],
   "source": [
    "# intersection method (&)\n",
    "x={1,2,3,5}\n",
    "y={1,3,4,6}\n",
    "z={1,7,4,9}\n",
    "x & y & z"
   ]
  },
  {
   "cell_type": "code",
   "execution_count": 376,
   "id": "ce5de40a-4d52-4ad1-ad72-e5201c45a642",
   "metadata": {},
   "outputs": [
    {
     "data": {
      "text/plain": [
       "True"
      ]
     },
     "execution_count": 376,
     "metadata": {},
     "output_type": "execute_result"
    }
   ],
   "source": [
    "# isdisjoint method     # both the set of item or element are not same then it will be true, otherwise comes false\n",
    "x={1,2,3,4}\n",
    "y={8,5,6,7}\n",
    "x.isdisjoint(y)"
   ]
  },
  {
   "cell_type": "code",
   "execution_count": 377,
   "id": "7b574d6e-681c-48fe-b334-1e4410e37a7c",
   "metadata": {},
   "outputs": [
    {
     "data": {
      "text/plain": [
       "False"
      ]
     },
     "execution_count": 377,
     "metadata": {},
     "output_type": "execute_result"
    }
   ],
   "source": [
    "# isdisjoint method\n",
    "x={1,2,3,4}\n",
    "y={4,5,6,7}\n",
    "x.isdisjoint(y)"
   ]
  },
  {
   "cell_type": "code",
   "execution_count": 386,
   "id": "a24b2423-57f8-4e54-99c0-6a61015cc1b2",
   "metadata": {},
   "outputs": [
    {
     "data": {
      "text/plain": [
       "True"
      ]
     },
     "execution_count": 386,
     "metadata": {},
     "output_type": "execute_result"
    }
   ],
   "source": [
    "# issubset method       # issubset (<=)\n",
    "x={1,2,3,4}\n",
    "y={1,5,6,7,3,2,4}\n",
    "x.issubset(y)\n"
   ]
  },
  {
   "cell_type": "code",
   "execution_count": 385,
   "id": "8bfea40e-3c40-4fc0-90dd-eb1580f91ee1",
   "metadata": {},
   "outputs": [
    {
     "data": {
      "text/plain": [
       "True"
      ]
     },
     "execution_count": 385,
     "metadata": {},
     "output_type": "execute_result"
    }
   ],
   "source": [
    "# issubset method              (<=)\n",
    "x={1,2,3,4}\n",
    "y={1,5,6,7,3,2,4}\n",
    "x <= y\n"
   ]
  },
  {
   "cell_type": "code",
   "execution_count": 390,
   "id": "4d75c700-5942-4cd6-9a22-7694f4a31706",
   "metadata": {},
   "outputs": [
    {
     "data": {
      "text/plain": [
       "False"
      ]
     },
     "execution_count": 390,
     "metadata": {},
     "output_type": "execute_result"
    }
   ],
   "source": [
    "# issubset method\n",
    "x={1,2,3,4}\n",
    "y={1,5,6,7,3,2}\n",
    "x.issubset(y)\n"
   ]
  },
  {
   "cell_type": "code",
   "execution_count": 392,
   "id": "987800fb-0f46-4a7c-a41f-18806d9540bf",
   "metadata": {},
   "outputs": [
    {
     "data": {
      "text/plain": [
       "True"
      ]
     },
     "execution_count": 392,
     "metadata": {},
     "output_type": "execute_result"
    }
   ],
   "source": [
    "# issuperset method\n",
    "x={1,2,3,4,5,6,7}\n",
    "y={1,2,3}\n",
    "x.issuperset(y)"
   ]
  },
  {
   "cell_type": "code",
   "execution_count": 393,
   "id": "163a63a1-7ddb-41b5-bc1d-5acdf3976377",
   "metadata": {},
   "outputs": [
    {
     "data": {
      "text/plain": [
       "False"
      ]
     },
     "execution_count": 393,
     "metadata": {},
     "output_type": "execute_result"
    }
   ],
   "source": [
    "# issuperset method\n",
    "x={1,2,3,4,5,6}\n",
    "y={1,2,8}\n",
    "x >= y"
   ]
  },
  {
   "cell_type": "code",
   "execution_count": 400,
   "id": "b8558afd-05a4-4529-b801-8eafaf55e024",
   "metadata": {},
   "outputs": [
    {
     "data": {
      "text/plain": [
       "1"
      ]
     },
     "execution_count": 400,
     "metadata": {},
     "output_type": "execute_result"
    }
   ],
   "source": [
    "## pop method\n",
    "x={1,2,5,3,9,6,4}     # Return the removed element:\n",
    "x.pop()"
   ]
  },
  {
   "cell_type": "code",
   "execution_count": 399,
   "id": "322e2368-ad71-4a32-b798-8732c6bf0fcf",
   "metadata": {},
   "outputs": [
    {
     "name": "stdout",
     "output_type": "stream",
     "text": [
      "{2, 3, 4, 5, 6, 9}\n"
     ]
    }
   ],
   "source": [
    "\n",
    "## pop method\n",
    "x={1,2,5,3,9,6,4}       #  return set except removed item\n",
    "x.pop()\n",
    "print(x)"
   ]
  },
  {
   "cell_type": "code",
   "execution_count": 405,
   "id": "f7a59dbc-39b5-4508-9506-890d88508359",
   "metadata": {},
   "outputs": [
    {
     "data": {
      "text/plain": [
       "{1, 2, 3, 4, 5}"
      ]
     },
     "execution_count": 405,
     "metadata": {},
     "output_type": "execute_result"
    }
   ],
   "source": [
    "# union method   (  |  )\n",
    "x={1,2,3}\n",
    "y={1,4,5}\n",
    "x.union(y)"
   ]
  },
  {
   "cell_type": "code",
   "execution_count": 411,
   "id": "4b6b4490-c187-4c43-9e57-0a8555125f7f",
   "metadata": {},
   "outputs": [
    {
     "data": {
      "text/plain": [
       "{1, 2, 3, 4, 5}"
      ]
     },
     "execution_count": 411,
     "metadata": {},
     "output_type": "execute_result"
    }
   ],
   "source": [
    "# union method   (  |  )\n",
    "x={1,2,3}\n",
    "y={1,4,5}\n",
    "x | y"
   ]
  },
  {
   "cell_type": "code",
   "execution_count": 482,
   "id": "1fdfb8af-a2c8-4030-822f-07a54c1cc110",
   "metadata": {},
   "outputs": [
    {
     "name": "stdout",
     "output_type": "stream",
     "text": [
      "{'Tuesday', 'Sunday', 'Monday', 'Friday', 'Wednesday', 'Saturday', 'Thursday'}\n"
     ]
    }
   ],
   "source": [
    "                      #### uninon method in set   (   |   )\n",
    "Days1 = {\"Monday\",\"Tuesday\",\"Wednesday\",\"Thursday\", \"Sunday\"}    \n",
    "Days2 = {\"Friday\",\"Saturday\",\"Sunday\"} \n",
    "Days3 = {\"Monday\",\"Saturday\",\"Thursday\"}\n",
    "print(Days1|Days2|Days3)"
   ]
  },
  {
   "cell_type": "code",
   "execution_count": 415,
   "id": "d74b0f88-533c-416a-9134-65a44bdcc9ff",
   "metadata": {},
   "outputs": [
    {
     "name": "stdout",
     "output_type": "stream",
     "text": [
      "{1, 2, 3, 4, 5}\n"
     ]
    }
   ],
   "source": [
    "# update method   (  |=  )\n",
    "x={1,2,3}\n",
    "y={1,4,5}\n",
    "x |= y\n",
    "print(x)"
   ]
  },
  {
   "cell_type": "markdown",
   "id": "9f3912f9-2309-4e8b-a6d1-6f101ea26035",
   "metadata": {},
   "source": [
    "## DICTIONARY\n",
    " MUTABLE, NOT DUPLICATE VALUE, ORDERD"
   ]
  },
  {
   "cell_type": "code",
   "execution_count": 511,
   "id": "bf334e7b-a4da-4a50-acf6-3e71e9c3e488",
   "metadata": {},
   "outputs": [
    {
     "name": "stdout",
     "output_type": "stream",
     "text": [
      "{'Name': 'nitesh', 'Title': 'nitesh', 'Age': 25}\n"
     ]
    }
   ],
   "source": [
    "x={\n",
    "    \"Name\":\"nitesh\",\n",
    "    \"Title\":\"nitesh\",\n",
    "    \"Age\":25\n",
    "}\n",
    "print(x)"
   ]
  },
  {
   "cell_type": "code",
   "execution_count": 512,
   "id": "eea6327a-5247-4d73-a918-369b17ec281d",
   "metadata": {},
   "outputs": [
    {
     "name": "stdout",
     "output_type": "stream",
     "text": [
      "{'Brand': 'Ford', 'Model': 'Mustang', 'Year': 2020}\n"
     ]
    }
   ],
   "source": [
    "thisdict = {\n",
    "  \"Brand\": \"Ford\",\n",
    "  \"Model\": \"Mustang\",\n",
    "  \"Year\": 1964,\n",
    "  \"Year\": 2020\n",
    "}\n",
    "print(thisdict)           ## duplicate value override existing value"
   ]
  },
  {
   "cell_type": "code",
   "execution_count": 513,
   "id": "844610be-592d-4a3d-9079-27a9b43c085c",
   "metadata": {},
   "outputs": [
    {
     "name": "stdout",
     "output_type": "stream",
     "text": [
      "{}\n"
     ]
    }
   ],
   "source": [
    "#clear method\n",
    "x={\n",
    "    \"Name\":\"nitesh\",\n",
    "    \"Title\":\"sah\",\n",
    "    \"Age\":25\n",
    "}\n",
    "x.clear()\n",
    "print(x)"
   ]
  },
  {
   "cell_type": "code",
   "execution_count": 509,
   "id": "f6f3007c-c00d-4a42-940a-1b83f183728a",
   "metadata": {},
   "outputs": [
    {
     "data": {
      "text/plain": [
       "'sah'"
      ]
     },
     "execution_count": 509,
     "metadata": {},
     "output_type": "execute_result"
    }
   ],
   "source": [
    "# get () method\n",
    "x={\n",
    "    \"Name\":\"nitesh\",\n",
    "    \"Title\":\"sah\",\n",
    "    \"Age\":25\n",
    "}\n",
    "x.get(\"Title\")"
   ]
  },
  {
   "cell_type": "code",
   "execution_count": 510,
   "id": "509ca38a-7896-4f25-9e23-334c4a51a0f1",
   "metadata": {},
   "outputs": [
    {
     "data": {
      "text/plain": [
       "2000"
      ]
     },
     "execution_count": 510,
     "metadata": {},
     "output_type": "execute_result"
    }
   ],
   "source": [
    "# get () method\n",
    "x={\n",
    "    \"Name\":\"nitesh\",\n",
    "    \"Title\":\"sah\",\n",
    "    \"Age\":25\n",
    "}\n",
    "x.get(\"DOB\",2000)"
   ]
  },
  {
   "cell_type": "code",
   "execution_count": 507,
   "id": "b16ef4a9-717f-4630-ada4-8f37690f4f3d",
   "metadata": {},
   "outputs": [
    {
     "data": {
      "text/plain": [
       "dict_items([('Name', 'nitesh'), ('Title', 'sah'), ('Age', 25)])"
      ]
     },
     "execution_count": 507,
     "metadata": {},
     "output_type": "execute_result"
    }
   ],
   "source": [
    "# items method \n",
    "## The items() method returns a view object. The view object contains the key-value pairs of the dictionary, as tuples in a list.\n",
    "x={\n",
    "    \"Name\":\"nitesh\",\n",
    "    \"Title\":\"sah\",\n",
    "    \"Age\":25\n",
    "}\n",
    "x.items()"
   ]
  },
  {
   "cell_type": "code",
   "execution_count": 506,
   "id": "5e29c94b-8b1f-4087-8844-3e7f81e6bf3c",
   "metadata": {},
   "outputs": [
    {
     "name": "stdout",
     "output_type": "stream",
     "text": [
      "{'Name': 'nitesh', 'Title': 'kumar', 'Age': 25}\n"
     ]
    }
   ],
   "source": [
    "# items method          \n",
    "##  When an item in the dictionary changes value, the view object also gets updated:\n",
    "x={\n",
    "    \"Name\":\"nitesh\",\n",
    "    \"Title\":\"sah\",\n",
    "    \"Age\":25\n",
    "}\n",
    "x.items()\n",
    "x[\"Title\"]=\"kumar\"\n",
    "print(x)\n"
   ]
  },
  {
   "cell_type": "code",
   "execution_count": 505,
   "id": "ce4adb08-25c2-43e2-8ba0-b8f5438ca020",
   "metadata": {},
   "outputs": [
    {
     "data": {
      "text/plain": [
       "dict_keys(['Name', 'Age'])"
      ]
     },
     "execution_count": 505,
     "metadata": {},
     "output_type": "execute_result"
    }
   ],
   "source": [
    "#  keys method\n",
    "## Returns a list containing the dictionary's keys\n",
    "x={\n",
    "    \"Name\":\"nitesh\",\n",
    "    \"Age\":25\n",
    "}\n",
    "x.keys()\n"
   ]
  },
  {
   "cell_type": "code",
   "execution_count": 504,
   "id": "77a5b9d8-829e-4ffd-9a7b-9ccb4332c19d",
   "metadata": {},
   "outputs": [
    {
     "name": "stdout",
     "output_type": "stream",
     "text": [
      "dict_keys(['Name', 'Age', 'color'])\n"
     ]
    }
   ],
   "source": [
    "#  keys method            # keys return after updated keys values\n",
    "x={\n",
    "    \"Name\":\"nitesh\",\n",
    "    \"Age\":25\n",
    "}\n",
    "y=x.keys()\n",
    "x[\"color\"]=\"white\"\n",
    "print(y)"
   ]
  },
  {
   "cell_type": "code",
   "execution_count": 502,
   "id": "d8474357-7f2a-4f63-8cb3-339c048a8c9e",
   "metadata": {},
   "outputs": [
    {
     "name": "stdout",
     "output_type": "stream",
     "text": [
      "{'Name': 'kumar', 'DOB': '15jan2000'}\n"
     ]
    }
   ],
   "source": [
    "# pop method                        #The pop() method removes the specified item from the dictionary.\n",
    "x={\n",
    "    \"Name\":\"kumar\",\n",
    "    \"Age\":25,\n",
    "    \"DOB\":\"15jan2000\"\n",
    "}\n",
    "x.pop(\"Age\")\n",
    "print(x)\n"
   ]
  },
  {
   "cell_type": "code",
   "execution_count": 503,
   "id": "142f6f9e-2c95-4a28-98ef-754622d3bb88",
   "metadata": {},
   "outputs": [
    {
     "data": {
      "text/plain": [
       "25"
      ]
     },
     "execution_count": 503,
     "metadata": {},
     "output_type": "execute_result"
    }
   ],
   "source": [
    "# pop method\n",
    "x={\n",
    "    \"Name\":\"kumar\",\n",
    "    \"Age\":25,\n",
    "    \"DOB\":\"15jan2000\"\n",
    "}\n",
    "x.pop(\"Age\")"
   ]
  },
  {
   "cell_type": "code",
   "execution_count": 497,
   "id": "850bc8ff-f16d-4241-8699-db1f5207e839",
   "metadata": {},
   "outputs": [
    {
     "data": {
      "text/plain": [
       "('DOB', '15jan2000')"
      ]
     },
     "execution_count": 497,
     "metadata": {},
     "output_type": "execute_result"
    }
   ],
   "source": [
    "## popitem               ##Removes the last inserted key-value pair\n",
    "x={\n",
    "    \"Name\":\"kumar\",\n",
    "    \"Age\":25,\n",
    "    \"DOB\":\"15jan2000\"\n",
    "}\n",
    "x.popitem()                    ## return removed elemnet"
   ]
  },
  {
   "cell_type": "code",
   "execution_count": 496,
   "id": "69de4807-063f-44d1-a72d-ab8037ba2724",
   "metadata": {},
   "outputs": [
    {
     "name": "stdout",
     "output_type": "stream",
     "text": [
      "{'Name': 'kumar', 'Age': 25}\n"
     ]
    }
   ],
   "source": [
    "# popitem\n",
    "x={\n",
    "    \"Name\":\"kumar\",\n",
    "    \"Age\":25,\n",
    "    \"DOB\":\"15jan2000\"\n",
    "}\n",
    "x.popitem()\n",
    "print(x)                          ## return item except popeitem"
   ]
  },
  {
   "cell_type": "code",
   "execution_count": null,
   "id": "4f9becc5-9dca-43b9-816c-a0ab84ff542f",
   "metadata": {},
   "outputs": [],
   "source": []
  }
 ],
 "metadata": {
  "kernelspec": {
   "display_name": "Python 3 (ipykernel)",
   "language": "python",
   "name": "python3"
  },
  "language_info": {
   "codemirror_mode": {
    "name": "ipython",
    "version": 3
   },
   "file_extension": ".py",
   "mimetype": "text/x-python",
   "name": "python",
   "nbconvert_exporter": "python",
   "pygments_lexer": "ipython3",
   "version": "3.12.4"
  }
 },
 "nbformat": 4,
 "nbformat_minor": 5
}
